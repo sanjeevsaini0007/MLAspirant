{
 "cells": [
  {
   "cell_type": "markdown",
   "id": "e48e1848",
   "metadata": {},
   "source": [
    "1.1 Write a Python Program(with class concepts) to find the area of the triangle using the below\n",
    "formula.\n",
    "\n",
    "area = (s*(s-a)*(s-b)*(s-c)) ** 0.5\n",
    "Function to take the length of the sides of triangle from user should be defined in the parent\n",
    "class and function to calculate the area should be defined in subclass."
   ]
  },
  {
   "cell_type": "code",
   "execution_count": 1,
   "id": "da9cb789",
   "metadata": {},
   "outputs": [],
   "source": [
    "class Sides:\n",
    "    \n",
    "    def __init__(self, a,b,c):\n",
    "        self.a= a\n",
    "        self.b= b\n",
    "        self.c= c\n",
    "\n",
    "\n",
    "class Triangle(Sides):\n",
    "    \n",
    "    def __init__(self, a,b,c):\n",
    "        super(Triangle, self).__init__(a,b,c)\n",
    "    \n",
    "    def area(self):\n",
    "        side= 0.5*(self.a+ self.b+ self.c)\n",
    "        return (side*(side-self.a)*(side-self.b)*(side-self.c))*0.5\n",
    "       "
   ]
  },
  {
   "cell_type": "code",
   "execution_count": 2,
   "id": "bab1f2c4",
   "metadata": {},
   "outputs": [],
   "source": [
    "obj1= Triangle(2,3,4)"
   ]
  },
  {
   "cell_type": "code",
   "execution_count": 3,
   "id": "235b6690",
   "metadata": {},
   "outputs": [
    {
     "name": "stdout",
     "output_type": "stream",
     "text": [
      "4.21875\n"
     ]
    }
   ],
   "source": [
    "print(obj1.area())"
   ]
  },
  {
   "cell_type": "code",
   "execution_count": null,
   "id": "b06173bb",
   "metadata": {},
   "outputs": [],
   "source": []
  },
  {
   "cell_type": "markdown",
   "id": "bf025083",
   "metadata": {},
   "source": [
    "1.2 Write a function filter_long_words() that takes a list of words and an integer n and returns\n",
    "the list of words that are longer than n."
   ]
  },
  {
   "cell_type": "code",
   "execution_count": 4,
   "id": "4aa4d724",
   "metadata": {},
   "outputs": [],
   "source": [
    "def filter_long_words(list_words, n):\n",
    "    \n",
    "    list_result=[]\n",
    "    for word in list_words:\n",
    "        if(isinstance(word,str) and len(word)>n):\n",
    "            list_result.append(word)\n",
    "            \n",
    "    return list_result\n",
    "            "
   ]
  },
  {
   "cell_type": "code",
   "execution_count": 5,
   "id": "18e171b5",
   "metadata": {},
   "outputs": [
    {
     "name": "stdout",
     "output_type": "stream",
     "text": [
      "['abc', 'def']\n"
     ]
    }
   ],
   "source": [
    "print(filter_long_words(['abc','def','a',1,'b'],2))"
   ]
  },
  {
   "cell_type": "code",
   "execution_count": null,
   "id": "2a0b6039",
   "metadata": {},
   "outputs": [],
   "source": []
  },
  {
   "cell_type": "markdown",
   "id": "451b5a04",
   "metadata": {},
   "source": [
    "2.1 Write a Python program using function concept that maps list of words into a list of integers\n",
    "representing the lengths of the corresponding words.\n",
    "\n",
    "Hint: If a list [ ab,cde,erty] is passed on to the python function output should come as [2,3,4]\n",
    "Here 2,3 and 4 are the lengths of the words in the list."
   ]
  },
  {
   "cell_type": "code",
   "execution_count": 6,
   "id": "bbd523dc",
   "metadata": {},
   "outputs": [
    {
     "name": "stdout",
     "output_type": "stream",
     "text": [
      "[2, 2, 3]\n"
     ]
    }
   ],
   "source": [
    "list1= list(map(len, ['ab','bc','cde']))\n",
    "print(list1)"
   ]
  },
  {
   "cell_type": "code",
   "execution_count": 7,
   "id": "5ef1a252",
   "metadata": {},
   "outputs": [],
   "source": [
    "def len_of_word(word):\n",
    "    return len(word)"
   ]
  },
  {
   "cell_type": "code",
   "execution_count": 8,
   "id": "c72d9d9d",
   "metadata": {},
   "outputs": [
    {
     "name": "stdout",
     "output_type": "stream",
     "text": [
      "[2, 2, 3]\n"
     ]
    }
   ],
   "source": [
    "list2= list(map(len_of_word, ['ab','bc','cde']))\n",
    "print(list2)"
   ]
  },
  {
   "cell_type": "code",
   "execution_count": 9,
   "id": "95a5631f",
   "metadata": {},
   "outputs": [],
   "source": [
    "def map_list_words(list_of_words):\n",
    "    list_result=[]\n",
    "    for word in list_of_words:\n",
    "        if(isinstance(word,str)):\n",
    "            list_result.append(len(word))\n",
    "        else:\n",
    "            list_result.append(None)\n",
    "            \n",
    "    return list_result"
   ]
  },
  {
   "cell_type": "code",
   "execution_count": 10,
   "id": "f4366c6e",
   "metadata": {},
   "outputs": [
    {
     "name": "stdout",
     "output_type": "stream",
     "text": [
      "[2, 2, 3]\n"
     ]
    }
   ],
   "source": [
    "list3= map_list_words(['ab','bc','cde'])\n",
    "print(list3)"
   ]
  },
  {
   "cell_type": "code",
   "execution_count": null,
   "id": "7c9d23fc",
   "metadata": {},
   "outputs": [],
   "source": []
  },
  {
   "cell_type": "markdown",
   "id": "d276529d",
   "metadata": {},
   "source": [
    "2.2 Write a Python function which takes a character (i.e. a string of length 1) and \n",
    "returns True if it is a vowel, False otherwise."
   ]
  },
  {
   "cell_type": "code",
   "execution_count": 11,
   "id": "e79a73e9",
   "metadata": {},
   "outputs": [],
   "source": [
    "list_vowels=['a','e','i','o','u']\n",
    "\n",
    "def CheckVowelOrNot(a):    \n",
    "    if(isinstance(a,str) and len(a)==1 and a in list_vowels):\n",
    "        return True\n",
    "    else:\n",
    "        return False"
   ]
  },
  {
   "cell_type": "code",
   "execution_count": 12,
   "id": "da118da2",
   "metadata": {},
   "outputs": [
    {
     "name": "stdout",
     "output_type": "stream",
     "text": [
      "True\n"
     ]
    }
   ],
   "source": [
    "print(CheckVowelOrNot('a'))"
   ]
  },
  {
   "cell_type": "code",
   "execution_count": 13,
   "id": "b93ab820",
   "metadata": {},
   "outputs": [
    {
     "name": "stdout",
     "output_type": "stream",
     "text": [
      "False\n"
     ]
    }
   ],
   "source": [
    "print(CheckVowelOrNot(1))"
   ]
  },
  {
   "cell_type": "code",
   "execution_count": 14,
   "id": "305cac77",
   "metadata": {},
   "outputs": [
    {
     "name": "stdout",
     "output_type": "stream",
     "text": [
      "False\n"
     ]
    }
   ],
   "source": [
    "print(CheckVowelOrNot('ae'))"
   ]
  },
  {
   "cell_type": "code",
   "execution_count": 15,
   "id": "0243b2b0",
   "metadata": {},
   "outputs": [
    {
     "name": "stdout",
     "output_type": "stream",
     "text": [
      "True\n"
     ]
    }
   ],
   "source": [
    "print(CheckVowelOrNot('u'))"
   ]
  },
  {
   "cell_type": "code",
   "execution_count": null,
   "id": "730a8de6",
   "metadata": {},
   "outputs": [],
   "source": []
  }
 ],
 "metadata": {
  "kernelspec": {
   "display_name": "Python 3 (ipykernel)",
   "language": "python",
   "name": "python3"
  },
  "language_info": {
   "codemirror_mode": {
    "name": "ipython",
    "version": 3
   },
   "file_extension": ".py",
   "mimetype": "text/x-python",
   "name": "python",
   "nbconvert_exporter": "python",
   "pygments_lexer": "ipython3",
   "version": "3.8.12"
  }
 },
 "nbformat": 4,
 "nbformat_minor": 5
}
