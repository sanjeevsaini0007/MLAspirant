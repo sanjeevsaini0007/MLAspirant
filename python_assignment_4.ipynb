{
 "cells": [
  {
   "cell_type": "markdown",
   "id": "210aefcf",
   "metadata": {},
   "source": [
    "1.1 Write a Python Program(with class concepts) to find the area of the triangle using the below\n",
    "formula.\n",
    "\n",
    "area = (s*(s-a)*(s-b)*(s-c)) ** 0.5\n",
    "Function to take the length of the sides of triangle from user should be defined in the parent\n",
    "class and function to calculate the area should be defined in subclass."
   ]
  },
  {
   "cell_type": "code",
   "execution_count": 22,
   "id": "065dc673",
   "metadata": {},
   "outputs": [],
   "source": [
    "class Sides:\n",
    "    \n",
    "    def __init__(self, a,b,c):\n",
    "        self.a= a\n",
    "        self.b= b\n",
    "        self.c= c\n",
    "\n",
    "\n",
    "class Triangle(Sides):\n",
    "    \n",
    "    def __init__(self, a,b,c):\n",
    "        super(Triangle, self).__init__(a,b,c)\n",
    "    \n",
    "    def area(self):\n",
    "        side= 0.5*(self.a+ self.b+ self.c)\n",
    "        return (side*(side-self.a)*(side-self.b)*(side-self.c))*0.5\n",
    "       "
   ]
  },
  {
   "cell_type": "code",
   "execution_count": 23,
   "id": "7608cad9",
   "metadata": {},
   "outputs": [],
   "source": [
    "obj1= Triangle(2,3,4)"
   ]
  },
  {
   "cell_type": "code",
   "execution_count": 24,
   "id": "fcb71e62",
   "metadata": {},
   "outputs": [
    {
     "data": {
      "text/plain": [
       "4.21875"
      ]
     },
     "execution_count": 24,
     "metadata": {},
     "output_type": "execute_result"
    }
   ],
   "source": [
    "obj1.area()"
   ]
  },
  {
   "cell_type": "code",
   "execution_count": null,
   "id": "b9662462",
   "metadata": {},
   "outputs": [],
   "source": []
  },
  {
   "cell_type": "markdown",
   "id": "15ec44d3",
   "metadata": {},
   "source": [
    "1.2 Write a function filter_long_words() that takes a list of words and an integer n and returns\n",
    "the list of words that are longer than n."
   ]
  },
  {
   "cell_type": "code",
   "execution_count": 57,
   "id": "848516a6",
   "metadata": {},
   "outputs": [],
   "source": [
    "def filter_long_words(list_words, n):\n",
    "    \n",
    "    list_result=[]\n",
    "    for word in list_words:\n",
    "        if(isinstance(word,str) and len(word)>n):\n",
    "            list_result.append(word)\n",
    "            \n",
    "    return list_result\n",
    "            "
   ]
  },
  {
   "cell_type": "code",
   "execution_count": 58,
   "id": "d13b4016",
   "metadata": {},
   "outputs": [
    {
     "data": {
      "text/plain": [
       "['abc', 'def']"
      ]
     },
     "execution_count": 58,
     "metadata": {},
     "output_type": "execute_result"
    }
   ],
   "source": [
    "filter_long_words(['abc','def','a',1,'b'],2)"
   ]
  },
  {
   "cell_type": "code",
   "execution_count": null,
   "id": "21475ce6",
   "metadata": {},
   "outputs": [],
   "source": []
  },
  {
   "cell_type": "markdown",
   "id": "88205b56",
   "metadata": {},
   "source": [
    "2.1 Write a Python program using function concept that maps list of words into a list of integers\n",
    "representing the lengths of the corresponding words.\n",
    "\n",
    "Hint: If a list [ ab,cde,erty] is passed on to the python function output should come as [2,3,4]\n",
    "Here 2,3 and 4 are the lengths of the words in the list."
   ]
  },
  {
   "cell_type": "code",
   "execution_count": 68,
   "id": "b6a4b481",
   "metadata": {},
   "outputs": [
    {
     "data": {
      "text/plain": [
       "[2, 2, 3]"
      ]
     },
     "execution_count": 68,
     "metadata": {},
     "output_type": "execute_result"
    }
   ],
   "source": [
    "list1= list(map(len, ['ab','bc','cde']))\n",
    "list1"
   ]
  },
  {
   "cell_type": "code",
   "execution_count": 69,
   "id": "846fdba3",
   "metadata": {},
   "outputs": [],
   "source": [
    "def len_of_word(word):\n",
    "    return len(word)"
   ]
  },
  {
   "cell_type": "code",
   "execution_count": 70,
   "id": "314f30b3",
   "metadata": {},
   "outputs": [
    {
     "data": {
      "text/plain": [
       "[2, 2, 3]"
      ]
     },
     "execution_count": 70,
     "metadata": {},
     "output_type": "execute_result"
    }
   ],
   "source": [
    "list2= list(map(len_of_word, ['ab','bc','cde']))\n",
    "list2"
   ]
  },
  {
   "cell_type": "code",
   "execution_count": 73,
   "id": "3d64f30d",
   "metadata": {},
   "outputs": [],
   "source": [
    "def map_list_words(list_of_words):\n",
    "    list_result=[]\n",
    "    for word in list_of_words:\n",
    "        if(isinstance(word,str)):\n",
    "            list_result.append(len(word))\n",
    "        else:\n",
    "            list_result.append(None)\n",
    "            \n",
    "    return list_result"
   ]
  },
  {
   "cell_type": "code",
   "execution_count": 74,
   "id": "ab203414",
   "metadata": {},
   "outputs": [
    {
     "data": {
      "text/plain": [
       "[2, 2, 3]"
      ]
     },
     "execution_count": 74,
     "metadata": {},
     "output_type": "execute_result"
    }
   ],
   "source": [
    "list3= map_list_words(['ab','bc','cde'])\n",
    "list3"
   ]
  },
  {
   "cell_type": "code",
   "execution_count": null,
   "id": "f8041007",
   "metadata": {},
   "outputs": [],
   "source": []
  },
  {
   "cell_type": "markdown",
   "id": "e4ec38de",
   "metadata": {},
   "source": [
    "2.2 Write a Python function which takes a character (i.e. a string of length 1) and \n",
    "returns True if it is a vowel, False otherwise."
   ]
  },
  {
   "cell_type": "code",
   "execution_count": 85,
   "id": "2bee25e3",
   "metadata": {},
   "outputs": [],
   "source": [
    "list_vowels=['a','e','i','o','u']\n",
    "\n",
    "def CheckVowelOrNot(a):    \n",
    "    if(isinstance(a,str) and len(a)==1 and a in list_vowels):\n",
    "        return True\n",
    "    else:\n",
    "        return False"
   ]
  },
  {
   "cell_type": "code",
   "execution_count": 87,
   "id": "c6cec96f",
   "metadata": {},
   "outputs": [
    {
     "data": {
      "text/plain": [
       "True"
      ]
     },
     "execution_count": 87,
     "metadata": {},
     "output_type": "execute_result"
    }
   ],
   "source": [
    "CheckVowelOrNot('a')"
   ]
  },
  {
   "cell_type": "code",
   "execution_count": 88,
   "id": "fca59fa5",
   "metadata": {},
   "outputs": [
    {
     "data": {
      "text/plain": [
       "False"
      ]
     },
     "execution_count": 88,
     "metadata": {},
     "output_type": "execute_result"
    }
   ],
   "source": [
    "CheckVowelOrNot(1)"
   ]
  },
  {
   "cell_type": "code",
   "execution_count": 89,
   "id": "669b9492",
   "metadata": {},
   "outputs": [
    {
     "data": {
      "text/plain": [
       "False"
      ]
     },
     "execution_count": 89,
     "metadata": {},
     "output_type": "execute_result"
    }
   ],
   "source": [
    "CheckVowelOrNot('ae')"
   ]
  },
  {
   "cell_type": "code",
   "execution_count": 90,
   "id": "3579293f",
   "metadata": {},
   "outputs": [
    {
     "data": {
      "text/plain": [
       "True"
      ]
     },
     "execution_count": 90,
     "metadata": {},
     "output_type": "execute_result"
    }
   ],
   "source": [
    "CheckVowelOrNot('u')"
   ]
  },
  {
   "cell_type": "code",
   "execution_count": null,
   "id": "7e4e2258",
   "metadata": {},
   "outputs": [],
   "source": []
  }
 ],
 "metadata": {
  "kernelspec": {
   "display_name": "Python 3 (ipykernel)",
   "language": "python",
   "name": "python3"
  },
  "language_info": {
   "codemirror_mode": {
    "name": "ipython",
    "version": 3
   },
   "file_extension": ".py",
   "mimetype": "text/x-python",
   "name": "python",
   "nbconvert_exporter": "python",
   "pygments_lexer": "ipython3",
   "version": "3.8.12"
  }
 },
 "nbformat": 4,
 "nbformat_minor": 5
}
