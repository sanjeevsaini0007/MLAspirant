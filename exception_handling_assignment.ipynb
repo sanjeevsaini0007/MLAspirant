{
 "cells": [
  {
   "cell_type": "code",
   "execution_count": 9,
   "id": "40211301",
   "metadata": {},
   "outputs": [],
   "source": [
    "#1. Write a function to compute 5/0 and use try/except to catch the exceptions.\n",
    "\n",
    "def func(a,b):\n",
    "    \n",
    "    try:\n",
    "        return a/b\n",
    "    except Exception as ex:\n",
    "        return str(ex)\n",
    "    #else:\n",
    "        #print('successfully executed')\n",
    "    #finally:\n",
    "        #print('function is done with execution')\n",
    "        "
   ]
  },
  {
   "cell_type": "code",
   "execution_count": 10,
   "id": "e1911c34",
   "metadata": {},
   "outputs": [
    {
     "data": {
      "text/plain": [
       "'division by zero'"
      ]
     },
     "execution_count": 10,
     "metadata": {},
     "output_type": "execute_result"
    }
   ],
   "source": [
    "func(5,0)  #to get division by zero exception"
   ]
  },
  {
   "cell_type": "code",
   "execution_count": 11,
   "id": "71edb82b",
   "metadata": {},
   "outputs": [
    {
     "data": {
      "text/plain": [
       "5.0"
      ]
     },
     "execution_count": 11,
     "metadata": {},
     "output_type": "execute_result"
    }
   ],
   "source": [
    "func(5,1)"
   ]
  },
  {
   "cell_type": "code",
   "execution_count": null,
   "id": "d317c5ea",
   "metadata": {},
   "outputs": [],
   "source": []
  },
  {
   "cell_type": "code",
   "execution_count": 15,
   "id": "45fb0e2f",
   "metadata": {},
   "outputs": [],
   "source": [
    "#2. Implement a Python program to generate all sentences where subject is in[\"Americans\", \"Indians\"] 4\n",
    "#and verb is in [\"Play\", \"watch\"] and the object is in [\"Baseball\",\"cricket\"].\n",
    "\n",
    "list_subject= ['Americans', 'Indians']\n",
    "list_verb= ['play','watch']\n",
    "list_object= ['Basketball','cricket']"
   ]
  },
  {
   "cell_type": "code",
   "execution_count": 16,
   "id": "6f2e140f",
   "metadata": {},
   "outputs": [
    {
     "name": "stdout",
     "output_type": "stream",
     "text": [
      "Americans play Basketball.\n",
      "Americans play cricket.\n",
      "Americans watch Basketball.\n",
      "Americans watch cricket.\n",
      "Indians play Basketball.\n",
      "Indians play cricket.\n",
      "Indians watch Basketball.\n",
      "Indians watch cricket.\n"
     ]
    }
   ],
   "source": [
    "try:\n",
    "    for subject in list_subject:\n",
    "        for verb in list_verb:\n",
    "            for object in list_object:\n",
    "                print(subject, verb, object+'.')\n",
    "except Exception as ex:\n",
    "    print(ex)"
   ]
  }
 ],
 "metadata": {
  "kernelspec": {
   "display_name": "Python 3 (ipykernel)",
   "language": "python",
   "name": "python3"
  },
  "language_info": {
   "codemirror_mode": {
    "name": "ipython",
    "version": 3
   },
   "file_extension": ".py",
   "mimetype": "text/x-python",
   "name": "python",
   "nbconvert_exporter": "python",
   "pygments_lexer": "ipython3",
   "version": "3.8.12"
  }
 },
 "nbformat": 4,
 "nbformat_minor": 5
}
